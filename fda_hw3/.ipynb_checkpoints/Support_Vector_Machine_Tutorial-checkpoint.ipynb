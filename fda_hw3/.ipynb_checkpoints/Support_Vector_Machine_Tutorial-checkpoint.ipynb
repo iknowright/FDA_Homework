{
 "cells": [
  {
   "cell_type": "markdown",
   "metadata": {
    "colab_type": "text",
    "id": "7exFKjP2YU31"
   },
   "source": [
    "[![Open In Colab](https://colab.research.google.com/assets/colab-badge.svg)](https://colab.research.google.com/github/IKMLab/FDA_regression_svm_nn/blob/master/Support_Vector_Machine_Tutorial.ipynb)"
   ]
  },
  {
   "cell_type": "markdown",
   "metadata": {
    "colab_type": "text",
    "id": "IPtBWQP9XgdL"
   },
   "source": [
    "# Support Vector Machine Tutorial\n",
    "\n",
    "---\n",
    "\n",
    "A Support Vector Machine (SVM) is a discriminative classifier formally defined by a separating hyperplane. <br>\n",
    "In other words, given labeled training data (supervised learning), the algorithm outputs an optimal hyperplane which categorizes new examples. - [reference](https://docs.opencv.org/2.4/doc/tutorials/ml/introduction_to_svm/introduction_to_svm.html)\n",
    "![](https://i.imgur.com/8M1p9kE.png)"
   ]
  },
  {
   "cell_type": "markdown",
   "metadata": {
    "colab_type": "text",
    "id": "c8H8q-wnXgdM"
   },
   "source": [
    "## Iris dataset\n",
    "---\n",
    "\n",
    "The [iris dataset](http://scikit-learn.org/stable/auto_examples/datasets/plot_iris_dataset.html) is a classic and very easy multi-class classification dataset.\n",
    "\n",
    "![](https://i.imgur.com/plJFlkx.png)\n"
   ]
  },
  {
   "cell_type": "markdown",
   "metadata": {
    "colab_type": "text",
    "id": "ZvhafDXnXgdN"
   },
   "source": [
    "### Import library"
   ]
  },
  {
   "cell_type": "code",
   "execution_count": 1,
   "metadata": {
    "colab": {},
    "colab_type": "code",
    "id": "_m4ryJEmXgdO"
   },
   "outputs": [],
   "source": [
    "from sklearn import datasets\n",
    "import pandas as pd\n",
    "import numpy as np\n",
    "import matplotlib.pyplot as plt\n",
    "\n",
    "%matplotlib inline"
   ]
  },
  {
   "cell_type": "markdown",
   "metadata": {
    "colab_type": "text",
    "id": "a_SDXvN5XgdS"
   },
   "source": [
    "### Load Iris dataset"
   ]
  },
  {
   "cell_type": "code",
   "execution_count": 2,
   "metadata": {
    "colab": {
     "base_uri": "https://localhost:8080/",
     "height": 51
    },
    "colab_type": "code",
    "id": "kOJs0snWXgdS",
    "outputId": "0d17ce3b-bd69-49dc-c7d8-3fc694d318b5"
   },
   "outputs": [
    {
     "name": "stdout",
     "output_type": "stream",
     "text": [
      "Feature_naems: ['sepal length (cm)', 'sepal width (cm)', 'petal length (cm)', 'petal width (cm)']\n",
      "Target_names: ['setosa' 'versicolor' 'virginica']\n"
     ]
    }
   ],
   "source": [
    "iris = datasets.load_iris()\n",
    "print(\"Feature_naems: \" + str(iris.feature_names))\n",
    "print(\"Target_names: \" + str(iris.target_names))"
   ]
  },
  {
   "cell_type": "markdown",
   "metadata": {
    "colab_type": "text",
    "id": "N5KFmmbAXgdX"
   },
   "source": [
    "### Data preparing\n",
    "In the begining, we choose two features to do the classification task."
   ]
  },
  {
   "cell_type": "code",
   "execution_count": 3,
   "metadata": {
    "colab": {
     "base_uri": "https://localhost:8080/",
     "height": 204
    },
    "colab_type": "code",
    "id": "ICebqJ4HXgdX",
    "outputId": "6b5a5609-b048-481d-e3d1-151880e40ffe"
   },
   "outputs": [
    {
     "data": {
      "text/html": [
       "<div>\n",
       "<style scoped>\n",
       "    .dataframe tbody tr th:only-of-type {\n",
       "        vertical-align: middle;\n",
       "    }\n",
       "\n",
       "    .dataframe tbody tr th {\n",
       "        vertical-align: top;\n",
       "    }\n",
       "\n",
       "    .dataframe thead th {\n",
       "        text-align: right;\n",
       "    }\n",
       "</style>\n",
       "<table border=\"1\" class=\"dataframe\">\n",
       "  <thead>\n",
       "    <tr style=\"text-align: right;\">\n",
       "      <th></th>\n",
       "      <th>sepal length (cm)</th>\n",
       "      <th>sepal width (cm)</th>\n",
       "      <th>target</th>\n",
       "    </tr>\n",
       "  </thead>\n",
       "  <tbody>\n",
       "    <tr>\n",
       "      <th>0</th>\n",
       "      <td>5.1</td>\n",
       "      <td>3.5</td>\n",
       "      <td>0</td>\n",
       "    </tr>\n",
       "    <tr>\n",
       "      <th>1</th>\n",
       "      <td>4.9</td>\n",
       "      <td>3.0</td>\n",
       "      <td>0</td>\n",
       "    </tr>\n",
       "    <tr>\n",
       "      <th>2</th>\n",
       "      <td>4.7</td>\n",
       "      <td>3.2</td>\n",
       "      <td>0</td>\n",
       "    </tr>\n",
       "    <tr>\n",
       "      <th>3</th>\n",
       "      <td>4.6</td>\n",
       "      <td>3.1</td>\n",
       "      <td>0</td>\n",
       "    </tr>\n",
       "    <tr>\n",
       "      <th>4</th>\n",
       "      <td>5.0</td>\n",
       "      <td>3.6</td>\n",
       "      <td>0</td>\n",
       "    </tr>\n",
       "  </tbody>\n",
       "</table>\n",
       "</div>"
      ],
      "text/plain": [
       "   sepal length (cm)  sepal width (cm)  target\n",
       "0                5.1               3.5       0\n",
       "1                4.9               3.0       0\n",
       "2                4.7               3.2       0\n",
       "3                4.6               3.1       0\n",
       "4                5.0               3.6       0"
      ]
     },
     "execution_count": 3,
     "metadata": {},
     "output_type": "execute_result"
    }
   ],
   "source": [
    "x = pd.DataFrame(iris['data'], columns=iris['feature_names'])\n",
    "y = pd.DataFrame(iris['target'], columns=['target'])\n",
    "\n",
    "iris_data = pd.concat([x, y], axis=1)\n",
    "iris_data = iris_data[['sepal length (cm)', 'sepal width (cm)','target']]\n",
    "\n",
    "# iris_data = iris_data[iris_data['target'].isin([0,2])]\n",
    "\n",
    "iris_data.head()"
   ]
  },
  {
   "cell_type": "code",
   "execution_count": 4,
   "metadata": {
    "colab": {},
    "colab_type": "code",
    "id": "X_h6sN64Xgda"
   },
   "outputs": [],
   "source": [
    "from sklearn.model_selection import train_test_split\n",
    "X_train, X_test, y_train, y_test = train_test_split(\n",
    "    iris_data[['sepal length (cm)', 'sepal width (cm)']], iris_data[['target']], test_size=0.2, random_state=0)"
   ]
  },
  {
   "cell_type": "markdown",
   "metadata": {
    "colab_type": "text",
    "id": "G9HRsAYuXgdc"
   },
   "source": [
    "### Standardization\n",
    "\n",
    "Standardization of a dataset is a common requirement for many machine learning estimators: they might behave badly if the individual feature do not more or less look like standard normally distributed data (eg Gaussian with 0 mean and unit variance)."
   ]
  },
  {
   "cell_type": "code",
   "execution_count": 5,
   "metadata": {
    "colab": {},
    "colab_type": "code",
    "id": "fmA9s3njXgdd"
   },
   "outputs": [],
   "source": [
    "from sklearn.preprocessing import StandardScaler\n",
    "\n",
    "scaler = StandardScaler()\n",
    "scaler.fit(X_train)\n",
    "\n",
    "X_train_std = scaler.transform(X_train)\n",
    "X_test_std = scaler.transform(X_test)"
   ]
  },
  {
   "cell_type": "markdown",
   "metadata": {
    "colab_type": "text",
    "id": "daIiRzChXgdf"
   },
   "source": [
    "### Import  svm model in the sklearn\n",
    "\n",
    "Internally, the svm model in sklearn use [libsvm](https://www.csie.ntu.edu.tw/~cjlin/libsvm/) to handle all computations. <br>\n",
    "Moreover, you could also use **NuSVM** or **LinearSVM** for further usage. (it would be mentioned later)"
   ]
  },
  {
   "cell_type": "code",
   "execution_count": 6,
   "metadata": {
    "colab": {},
    "colab_type": "code",
    "id": "x0_peaDPXgdg"
   },
   "outputs": [],
   "source": [
    "from sklearn.svm import SVC"
   ]
  },
  {
   "cell_type": "markdown",
   "metadata": {
    "colab_type": "text",
    "id": "B-doq4siXgdi"
   },
   "source": [
    "### Penalty parameter C\n",
    "- Penalty parameter C of the error term\n",
    "  - Large C : hard-margin\n",
    "  - Small C : soft-margin\n",
    "\n",
    "\n",
    "### Kernel functions\n",
    "In sklearn, there are four build-in kernel functions, ['linear', 'poly', 'rbf', 'sigmoid']((http://scikit-learn.org/stable/modules/svm.html#svm-kernels). <br>\n",
    "Also, you could use your custom kernel function as well."
   ]
  },
  {
   "cell_type": "code",
   "execution_count": 7,
   "metadata": {
    "colab": {
     "base_uri": "https://localhost:8080/",
     "height": 34
    },
    "colab_type": "code",
    "id": "axhLvWXZXgdj",
    "outputId": "712f2db2-db8c-4dd0-bdf2-d6bba8907878"
   },
   "outputs": [
    {
     "name": "stdout",
     "output_type": "stream",
     "text": [
      "Penalty = 0.05, Accuracy = 63.33 %\n"
     ]
    }
   ],
   "source": [
    "from sklearn.metrics import accuracy_score\n",
    "\n",
    "# Custom kernel function\n",
    "def my_kernel(X, Y):\n",
    "    return np.dot(X, Y.T)\n",
    "  \n",
    "penalty = 0.05\n",
    "\n",
    "svm = SVC(C=penalty, kernel=\"linear\", probability=True)\n",
    "svm.fit(X_train, y_train['target'].values)\n",
    "  \n",
    "acc_rate = accuracy_score(y_test['target'].values, svm.predict(X_test)) * 100\n",
    "print(\"Penalty = %.2f, Accuracy = %.2f %%\" % (penalty, acc_rate))\n",
    " "
   ]
  },
  {
   "cell_type": "markdown",
   "metadata": {
    "colab_type": "text",
    "id": "Qv7TT_eGXgdq"
   },
   "source": [
    "### Support vectors"
   ]
  },
  {
   "cell_type": "code",
   "execution_count": 8,
   "metadata": {
    "colab": {
     "base_uri": "https://localhost:8080/",
     "height": 102
    },
    "colab_type": "code",
    "id": "mGoUpZXBXgdq",
    "outputId": "7253e21e-744c-47ab-de6d-810a5d8171fd"
   },
   "outputs": [
    {
     "name": "stdout",
     "output_type": "stream",
     "text": [
      "Index: 2; Support vector: [5.2 3.5]\n",
      "Index: 6; Support vector: [5.7 3.8]\n",
      "Index: 11; Support vector: [4.7 3.2]\n",
      "Index: 13; Support vector: [5.  3.5]\n",
      "Index: 14; Support vector: [5.4 3.7]\n"
     ]
    }
   ],
   "source": [
    "for i, sv in enumerate(zip(svm.support_, svm.support_vectors_)):\n",
    "    if i < 5:\n",
    "        print(\"Index: %s; Support vector: %s\" % (sv[0], sv[1]))"
   ]
  },
  {
   "cell_type": "markdown",
   "metadata": {
    "colab_type": "text",
    "id": "iehUGK-KXgdt"
   },
   "source": [
    "### Number of **support vectors** in each class"
   ]
  },
  {
   "cell_type": "code",
   "execution_count": 9,
   "metadata": {
    "colab": {
     "base_uri": "https://localhost:8080/",
     "height": 34
    },
    "colab_type": "code",
    "id": "_iNyc_JYXgdu",
    "outputId": "7d5041b1-3b63-4ff3-d479-355c44902d84"
   },
   "outputs": [
    {
     "data": {
      "text/plain": [
       "array([31, 37, 35], dtype=int32)"
      ]
     },
     "execution_count": 9,
     "metadata": {},
     "output_type": "execute_result"
    }
   ],
   "source": [
    "svm.n_support_"
   ]
  },
  {
   "cell_type": "code",
   "execution_count": 10,
   "metadata": {
    "colab": {
     "base_uri": "https://localhost:8080/",
     "height": 51
    },
    "colab_type": "code",
    "id": "yZ-q3UEZXgdw",
    "outputId": "2788f3d9-c9a2-41ab-d6a6-15c00825b56b",
    "scrolled": true
   },
   "outputs": [
    {
     "name": "stdout",
     "output_type": "stream",
     "text": [
      "The labels by model prediction : [1 1 0 2 0 2 0 2 2 2 1 2 2 2 2 0 1 1 0 0 1 1 0 0 2 0 0 2 1 0]\n",
      "Real labels in the testing set : [2 1 0 2 0 2 0 1 1 1 2 1 1 1 1 0 1 1 0 0 2 1 0 0 2 0 0 1 1 0]\n"
     ]
    }
   ],
   "source": [
    "print(\"The labels by model prediction : %s\" % svm.predict(X_test))\n",
    "print(\"Real labels in the testing set : %s\" % y_test['target'].values)"
   ]
  },
  {
   "cell_type": "markdown",
   "metadata": {
    "colab_type": "text",
    "id": "BxIZtZYrXgd2"
   },
   "source": [
    "### Prediction probability for each label"
   ]
  },
  {
   "cell_type": "code",
   "execution_count": 11,
   "metadata": {
    "colab": {
     "base_uri": "https://localhost:8080/",
     "height": 527
    },
    "colab_type": "code",
    "id": "0YJ4d-NnXgd3",
    "outputId": "4ad56069-0fef-469a-e90a-e6beebbdbad1"
   },
   "outputs": [
    {
     "name": "stdout",
     "output_type": "stream",
     "text": [
      "['0.03', '0.63', '0.34']\n",
      "['0.00', '0.64', '0.36']\n",
      "['0.96', '0.01', '0.03']\n",
      "['0.00', '0.16', '0.84']\n",
      "['0.97', '0.02', '0.02']\n",
      "['0.02', '0.40', '0.58']\n",
      "['0.98', '0.01', '0.01']\n",
      "['0.00', '0.30', '0.70']\n",
      "['0.00', '0.30', '0.70']\n",
      "['0.01', '0.53', '0.46']\n",
      "['0.01', '0.56', '0.44']\n",
      "['0.01', '0.38', '0.61']\n",
      "['0.01', '0.53', '0.46']\n",
      "['0.00', '0.39', '0.60']\n",
      "['0.01', '0.52', '0.47']\n",
      "['0.99', '0.00', '0.01']\n",
      "['0.02', '0.55', '0.43']\n",
      "['0.05', '0.73', '0.22']\n",
      "['0.94', '0.05', '0.02']\n",
      "['0.95', '0.02', '0.04']\n",
      "['0.06', '0.68', '0.26']\n",
      "['0.12', '0.63', '0.25']\n",
      "['0.99', '0.00', '0.01']\n",
      "['0.99', '0.01', '0.00']\n",
      "['0.01', '0.50', '0.49']\n",
      "['1.00', '0.00', '0.00']\n",
      "['0.98', '0.00', '0.01']\n",
      "['0.01', '0.49', '0.50']\n",
      "['0.09', '0.83', '0.08']\n",
      "['0.97', '0.02', '0.02']\n"
     ]
    }
   ],
   "source": [
    "for prob in svm.predict_proba(X_test):\n",
    "    print([\"%.2f\" % p for p in prob] )"
   ]
  },
  {
   "cell_type": "markdown",
   "metadata": {
    "colab_type": "text",
    "id": "P2oLl2NpXgd6"
   },
   "source": [
    "### Plot the classification results"
   ]
  },
  {
   "cell_type": "code",
   "execution_count": 12,
   "metadata": {
    "colab": {},
    "colab_type": "code",
    "id": "dBuXtkjEXgd6"
   },
   "outputs": [],
   "source": [
    "from matplotlib.colors import ListedColormap\n",
    "\n",
    "def plot_decision_regions(X, y, classifier, test_idx=None, resolution=0.02):\n",
    "\n",
    "    # setup marker generator and color map\n",
    "    markers = ('s', 'x', 'o', '^', 'v')\n",
    "    colors = ('red', 'blue', 'lightgreen', 'gray', 'cyan')\n",
    "    cmap = ListedColormap(colors[:len(np.unique(y))])\n",
    "\n",
    "    # plot the decision surface\n",
    "    x1_min, x1_max = X[:, 0].min() - 1, X[:, 0].max() + 1\n",
    "    x2_min, x2_max = X[:, 1].min() - 1, X[:, 1].max() + 1\n",
    "    xx1, xx2 = np.meshgrid(np.arange(x1_min, x1_max, resolution),\n",
    "                           np.arange(x2_min, x2_max, resolution))\n",
    "    Z = classifier.predict(np.array([xx1.ravel(), xx2.ravel()]).T)\n",
    "    Z = Z.reshape(xx1.shape)\n",
    "    plt.contourf(xx1, xx2, Z, alpha=0.4, cmap=cmap)\n",
    "    plt.xlim(xx1.min(), xx1.max())\n",
    "    plt.ylim(xx2.min(), xx2.max())\n",
    "\n",
    "    for idx, cl in enumerate(np.unique(y)):\n",
    "        plt.scatter(x=X[y == cl, 0], \n",
    "                    y=X[y == cl, 1],\n",
    "                    alpha=0.6, \n",
    "                    c = ['red', 'blue', 'lightgreen'][idx],\n",
    "                    edgecolor='black',\n",
    "                    marker=markers[idx], \n",
    "                    label=cl)\n",
    "\n",
    "    # highlight test samples\n",
    "    if test_idx:\n",
    "        # plot all samples\n",
    "        if not versiontuple(np.__version__) >= versiontuple('1.9.0'):\n",
    "            X_test, y_test = X[list(test_idx), :], y[list(test_idx)]\n",
    "            warnings.warn('Please update to NumPy 1.9.0 or newer')\n",
    "        else:\n",
    "            X_test, y_test = X[test_idx, :], y[test_idx]\n",
    "\n",
    "        plt.scatter(X_test[:, 0],\n",
    "                    X_test[:, 1],\n",
    "                    c='',\n",
    "                    alpha=1.0,\n",
    "                    edgecolor='black',\n",
    "                    linewidths=1,\n",
    "                    marker='o',\n",
    "                    s=55, label='test set')"
   ]
  },
  {
   "cell_type": "code",
   "execution_count": 13,
   "metadata": {
    "colab": {},
    "colab_type": "code",
    "id": "lLMlg_3q7qlr"
   },
   "outputs": [],
   "source": [
    "def plot_train_test(location, x, y):\n",
    "  \n",
    "    plt.subplot(1,2,location)\n",
    "\n",
    "    plot_decision_regions(x, y, classifier=svm)\n",
    "    if location == 1:\n",
    "      plt.title(\"Training\")\n",
    "    elif location == 2:\n",
    "      plt.title(\"Testing\")\n",
    "    plt.xlabel('sepal length')\n",
    "    plt.ylabel('sepal width')\n",
    "    plt.legend(loc='upper left')\n",
    "    plt.tight_layout()\n",
    "    "
   ]
  },
  {
   "cell_type": "code",
   "execution_count": 14,
   "metadata": {
    "colab": {
     "base_uri": "https://localhost:8080/",
     "height": 34
    },
    "colab_type": "code",
    "id": "_YORW-VF-QCl",
    "outputId": "f1eb7da0-24f3-45e8-8044-2504922fa2de"
   },
   "outputs": [
    {
     "name": "stdout",
     "output_type": "stream",
     "text": [
      "Penalty = 0.05, Train accuracy = 82.50 %, Test accuracy = 63.33 %\n"
     ]
    }
   ],
   "source": [
    "penalty = 0.05\n",
    "\n",
    "svm = SVC(C=penalty, kernel=\"linear\")\n",
    "svm.fit(X_train, y_train['target'].values)\n",
    "\n",
    "acc_train = accuracy_score(y_train['target'].values, svm.predict(X_train)) * 100\n",
    "acc_test = accuracy_score(y_test['target'].values, svm.predict(X_test)) * 100\n",
    "print(\"Penalty = %.2f, Train accuracy = %.2f %%, Test accuracy = %.2f %%\" % (penalty, acc_train, acc_test))"
   ]
  },
  {
   "cell_type": "code",
   "execution_count": 15,
   "metadata": {
    "colab": {
     "base_uri": "https://localhost:8080/",
     "height": 403
    },
    "colab_type": "code",
    "id": "R88uThiuXgd8",
    "outputId": "68178439-8446-4e08-8220-6e58a5de5217"
   },
   "outputs": [
    {
     "data": {
      "image/png": "[encoded data removed]",
      "text/plain": [
       "<Figure size 720x360 with 2 Axes>"
      ]
     },
     "metadata": {
      "needs_background": "light"
     },
     "output_type": "display_data"
    },
    {
     "name": "stdout",
     "output_type": "stream",
     "text": [
      "C: 0.05, Train Acc: 82.50 %, Test Acc: 63.33 %\n",
      "Kernel function : linear\n"
     ]
    }
   ],
   "source": [
    "plt.figure(figsize=(10,5))\n",
    "\n",
    "plot_train_test(1, X_train.values, y_train['target'].values)\n",
    "plot_train_test(2, X_test.values, y_test['target'].values)\n",
    "\n",
    "plt.show()\n",
    "\n",
    "print(\"C: %.2f, Train Acc: %.2f %%, Test Acc: %.2f %%\" % (penalty, acc_train, acc_test))\n",
    "print(\"Kernel function : linear\")"
   ]
  },
  {
   "cell_type": "code",
   "execution_count": 16,
   "metadata": {
    "colab": {
     "base_uri": "https://localhost:8080/",
     "height": 403
    },
    "colab_type": "code",
    "id": "BANJ26dO7flt",
    "outputId": "f1d85ec6-8d5a-44bc-aa1e-03387ffe906e"
   },
   "outputs": [
    {
     "data": {
      "image/png": "[encoded data removed]",
      "text/plain": [
       "<Figure size 720x360 with 2 Axes>"
      ]
     },
     "metadata": {
      "needs_background": "light"
     },
     "output_type": "display_data"
    },
    {
     "name": "stdout",
     "output_type": "stream",
     "text": [
      "C: 0.05, Train Acc: 82.50 %, Test Acc: 63.33 %\n",
      "Kernel function : poly\n"
     ]
    }
   ],
   "source": [
    "plt.figure(figsize=(10,5))\n",
    "\n",
    "plot_train_test(1, X_train.values, y_train['target'].values)\n",
    "plot_train_test(2, X_test.values, y_test['target'].values)\n",
    "\n",
    "plt.show()\n",
    "\n",
    "print(\"C: %.2f, Train Acc: %.2f %%, Test Acc: %.2f %%\" % (penalty, acc_train, acc_test))\n",
    "print(\"Kernel function : poly\")"
   ]
  },
  {
   "cell_type": "markdown",
   "metadata": {
    "colab_type": "text",
    "id": "3cpigKmNXgeA"
   },
   "source": [
    "# Supplement\n",
    "\n",
    "## Other svm models in sklearn"
   ]
  },
  {
   "cell_type": "markdown",
   "metadata": {
    "colab_type": "text",
    "id": "OQzwZ5dzXgeA"
   },
   "source": [
    "### [NuSVC](http://scikit-learn.org/stable/modules/generated/sklearn.svm.NuSVC.html#sklearn.svm.NuSVC)\n",
    "Similar to SVC but uses a parameter(nu) to control the number of support vectors.\n",
    "\n",
    "- **nu** : float, optional (default=0.5)\n",
    "    - An upper bound on the fraction of training errors and a lower bound of the fraction of support vectors. Should be in the interval (0, 1]."
   ]
  },
  {
   "cell_type": "code",
   "execution_count": 17,
   "metadata": {
    "colab": {},
    "colab_type": "code",
    "id": "YKYFVvcYXgeC"
   },
   "outputs": [],
   "source": [
    "from sklearn.svm import NuSVC\n",
    "nuSvm = NuSVC(nu=0.1, kernel=\"linear\", probability=True)"
   ]
  },
  {
   "cell_type": "markdown",
   "metadata": {
    "colab_type": "text",
    "id": "ZzKQd71hXgeD"
   },
   "source": [
    "### [LinearSVC](http://scikit-learn.org/stable/modules/generated/sklearn.svm.LinearSVC.html#sklearn.svm.LinearSVC)\n",
    "\n",
    "Similar to SVC with parameter kernel=’linear’, but implemented in terms of [liblinear](https://www.csie.ntu.edu.tw/~cjlin/liblinear/) rather than libsvm, so it has more flexibility in the choice of penalties and loss functions and should scale better to large numbers of samples.\n",
    "\n",
    "\t\n",
    "- **penalty** : string, ‘l1’ or ‘l2’ (default=’l2’)\n",
    "\n",
    "    - Specifies the norm used in the penalization. The ‘l2’ penalty is the standard used in SVC. The ‘l1’ leads to coef_ vectors that are sparse.\n",
    "\n",
    "- **loss** : string, ‘hinge’ or ‘squared_hinge’ (default=’squared_hinge’)\n",
    "\n",
    "    - Specifies the loss function. ‘hinge’ is the standard SVM loss (used e.g. by the SVC class) while ‘squared_hinge’ is the square of the hinge loss.\n",
    "\n",
    "- **dual** : bool, (default=True)\n",
    "\n",
    "    - Select the algorithm to either solve the dual or primal optimization problem. Prefer dual=False when n_samples > n_features."
   ]
  },
  {
   "cell_type": "code",
   "execution_count": 18,
   "metadata": {
    "colab": {},
    "colab_type": "code",
    "id": "S0v6TpOyXgeE"
   },
   "outputs": [],
   "source": [
    "from sklearn.svm import LinearSVC\n",
    "linearSvm = LinearSVC(penalty='l1', loss='hinge', dual=False)"
   ]
  }
 ],
 "metadata": {
  "accelerator": "GPU",
  "colab": {
   "collapsed_sections": [],
   "name": "Support Vector Machine Tutorial.ipynb",
   "provenance": [],
   "version": "0.3.2"
  },
  "kernelspec": {
   "display_name": "Python 3",
   "language": "python",
   "name": "python3"
  },
  "language_info": {
   "codemirror_mode": {
    "name": "ipython",
    "version": 3
   },
   "file_extension": ".py",
   "mimetype": "text/x-python",
   "name": "python",
   "nbconvert_exporter": "python",
   "pygments_lexer": "ipython3",
   "version": "3.7.3"
  }
 },
 "nbformat": 4,
 "nbformat_minor": 1
}
