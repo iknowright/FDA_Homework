{
 "cells": [
  {
   "cell_type": "markdown",
   "metadata": {},
   "source": [
    "# Support Vector Machine\n",
    "\n",
    "## Dataset : Stocks\n",
    "\n",
    "### Import libraries\n",
    "\n",
    "From the SVM tutorial, we have to use two features from the dataset to do svm prediction, so I lefted Open Price and Close Price to train.\n",
    "\n",
    "We don't have the result yet (our target), but we do have two dataset already separated as training set and testing set."
   ]
  },
  {
   "cell_type": "code",
   "execution_count": 1,
   "metadata": {},
   "outputs": [
    {
     "data": {
      "text/html": [
       "<div>\n",
       "<style scoped>\n",
       "    .dataframe tbody tr th:only-of-type {\n",
       "        vertical-align: middle;\n",
       "    }\n",
       "\n",
       "    .dataframe tbody tr th {\n",
       "        vertical-align: top;\n",
       "    }\n",
       "\n",
       "    .dataframe thead th {\n",
       "        text-align: right;\n",
       "    }\n",
       "</style>\n",
       "<table border=\"1\" class=\"dataframe\">\n",
       "  <thead>\n",
       "    <tr style=\"text-align: right;\">\n",
       "      <th></th>\n",
       "      <th>Open Price</th>\n",
       "      <th>Close Price</th>\n",
       "    </tr>\n",
       "  </thead>\n",
       "  <tbody>\n",
       "    <tr>\n",
       "      <th>0</th>\n",
       "      <td>2683.73</td>\n",
       "      <td>2695.81</td>\n",
       "    </tr>\n",
       "    <tr>\n",
       "      <th>1</th>\n",
       "      <td>2697.85</td>\n",
       "      <td>2713.06</td>\n",
       "    </tr>\n",
       "    <tr>\n",
       "      <th>2</th>\n",
       "      <td>2719.31</td>\n",
       "      <td>2723.99</td>\n",
       "    </tr>\n",
       "    <tr>\n",
       "      <th>3</th>\n",
       "      <td>2731.33</td>\n",
       "      <td>2743.15</td>\n",
       "    </tr>\n",
       "    <tr>\n",
       "      <th>4</th>\n",
       "      <td>2742.67</td>\n",
       "      <td>2747.71</td>\n",
       "    </tr>\n",
       "  </tbody>\n",
       "</table>\n",
       "</div>"
      ],
      "text/plain": [
       "   Open Price  Close Price\n",
       "0     2683.73      2695.81\n",
       "1     2697.85      2713.06\n",
       "2     2719.31      2723.99\n",
       "3     2731.33      2743.15\n",
       "4     2742.67      2747.71"
      ]
     },
     "execution_count": 1,
     "metadata": {},
     "output_type": "execute_result"
    }
   ],
   "source": [
    "import matplotlib.pyplot as plt\n",
    "import numpy as np\n",
    "import pandas as pd\n",
    "\n",
    "x_train = pd.read_csv(\"train.csv\")\n",
    "x_train = x_train.drop(['Date', 'High Price', 'Low Price', 'Volume'], axis=1)\n",
    "x_test = pd.read_csv(\"test.csv\")\n",
    "x_test = x_test.drop(['Date', 'High Price', 'Low Price', 'Volume'], axis=1)\n",
    "x_test.head()"
   ]
  },
  {
   "cell_type": "markdown",
   "metadata": {},
   "source": [
    "### Getting the result of Stocks Up and Down\n",
    "\n",
    "We have to obtain the stocks up and down status by comparing close prices within two following days.\n",
    "Make up a list y(up and down) for both train and test data. The return data will be our y_train and y_test, we do not need to merge x and y together anymore. They are separated now."
   ]
  },
  {
   "cell_type": "code",
   "execution_count": 2,
   "metadata": {},
   "outputs": [],
   "source": [
    "# iterate over rows with iterrows()\n",
    "close_prices = x_train['Close Price']\n",
    "up_down_train = [0]\n",
    "for i in range(1, len(close_prices)):\n",
    "    if close_prices[i] - close_prices[i-1] > 0:\n",
    "        up_down_train.append(1)\n",
    "    else:\n",
    "        up_down_train.append(0)\n",
    "up_down_train\n",
    "\n",
    "y_train = pd.Series(up_down_train)\n",
    "\n",
    "close_prices = x_test['Close Price']\n",
    "up_down_test = [0]\n",
    "for i in range(1, len(close_prices)):\n",
    "    if close_prices[i] - close_prices[i-1] > 0:\n",
    "        up_down_test.append(1)\n",
    "    else:\n",
    "        up_down_test.append(0)\n",
    "up_down_test\n",
    "\n",
    "y_test = pd.Series(up_down_test)"
   ]
  },
  {
   "cell_type": "markdown",
   "metadata": {},
   "source": [
    "### Import package for svm"
   ]
  },
  {
   "cell_type": "code",
   "execution_count": 3,
   "metadata": {},
   "outputs": [],
   "source": [
    "from sklearn.preprocessing import StandardScaler\n",
    "\n",
    "scaler = StandardScaler()\n",
    "scaler.fit(x_train)\n",
    "\n",
    "X_train_std = scaler.transform(x_train)\n",
    "X_test_std = scaler.transform(x_test)"
   ]
  },
  {
   "cell_type": "markdown",
   "metadata": {},
   "source": [
    "### Do the SVC "
   ]
  },
  {
   "cell_type": "code",
   "execution_count": 4,
   "metadata": {},
   "outputs": [
    {
     "name": "stdout",
     "output_type": "stream",
     "text": [
      "Penalty = 0.05, Train Accuracy = 93.77 %\n",
      "Penalty = 0.05, Test Accuracy = 82.54 %\n"
     ]
    }
   ],
   "source": [
    "from sklearn.svm import SVC\n",
    "from sklearn.metrics import accuracy_score\n",
    "\n",
    "# Custom kernel function\n",
    "def my_kernel(X, Y):\n",
    "    return np.dot(X, Y.T)\n",
    "  \n",
    "penalty = 0.05\n",
    "\n",
    "svm = SVC(C=penalty, kernel=\"linear\", probability=True)\n",
    "svm.fit(x_train, y_train.values)\n",
    "  \n",
    "acc_rate = accuracy_score(y_train.values, svm.predict(x_train)) * 100\n",
    "print(\"Penalty = %.2f, Train Accuracy = %.2f %%\" % (penalty, acc_rate))\n",
    "acc_rate = accuracy_score(y_test.values, svm.predict(x_test)) * 100\n",
    "print(\"Penalty = %.2f, Test Accuracy = %.2f %%\" % (penalty, acc_rate))"
   ]
  },
  {
   "cell_type": "code",
   "execution_count": 7,
   "metadata": {},
   "outputs": [
    {
     "name": "stdout",
     "output_type": "stream",
     "text": [
      "Penalty = 5.00, Train Accuracy = 93.60 %\n",
      "Penalty = 5.00, Test Accuracy = 82.94 %\n"
     ]
    }
   ],
   "source": [
    "penalty = 5\n",
    "\n",
    "svm = SVC(C=penalty, kernel=\"linear\", probability=True)\n",
    "svm.fit(x_train, y_train.values)\n",
    "  \n",
    "acc_rate = accuracy_score(y_train.values, svm.predict(x_train)) * 100\n",
    "print(\"Penalty = %.2f, Train Accuracy = %.2f %%\" % (penalty, acc_rate))\n",
    "acc_rate = accuracy_score(y_test.values, svm.predict(x_test)) * 100\n",
    "print(\"Penalty = %.2f, Test Accuracy = %.2f %%\" % (penalty, acc_rate))"
   ]
  },
  {
   "cell_type": "code",
   "execution_count": null,
   "metadata": {},
   "outputs": [],
   "source": []
  }
 ],
 "metadata": {
  "kernelspec": {
   "display_name": "Python 3",
   "language": "python",
   "name": "python3"
  },
  "language_info": {
   "codemirror_mode": {
    "name": "ipython",
    "version": 3
   },
   "file_extension": ".py",
   "mimetype": "text/x-python",
   "name": "python",
   "nbconvert_exporter": "python",
   "pygments_lexer": "ipython3",
   "version": "3.7.3"
  }
 },
 "nbformat": 4,
 "nbformat_minor": 2
}
