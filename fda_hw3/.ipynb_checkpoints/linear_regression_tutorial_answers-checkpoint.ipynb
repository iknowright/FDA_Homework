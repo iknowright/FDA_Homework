{
 "cells": [
  {
   "cell_type": "markdown",
   "metadata": {},
   "source": [
    "# Linear Regression Tutorial"
   ]
  },
  {
   "cell_type": "code",
   "execution_count": 1,
   "metadata": {},
   "outputs": [],
   "source": [
    "# packages we will be using\n",
    "import matplotlib.pyplot as plt\n",
    "from sklearn import linear_model, metrics, model_selection\n",
    "import numpy as np\n",
    "import pandas as pd"
   ]
  },
  {
   "cell_type": "markdown",
   "metadata": {},
   "source": [
    "## What is Linear Regression?\n",
    "\n",
    "Finding a straight line of best fit through the data. This works well when the true underlying function is linear.\n",
    "\n",
    "### Example\n",
    "\n",
    "We use features $\\mathbf{x}$ to predict a \"response\" $y$. For example we might want to regress `num_hours_studied` onto `exam_score` - in other words we predict exam score from number of hours studied.\n",
    "\n",
    "Let's generate some example data for this case and examine the relationship between $\\mathbf{x}$ and $y$."
   ]
  },
  {
   "cell_type": "code",
   "execution_count": 2,
   "metadata": {},
   "outputs": [
    {
     "data": {
      "image/png": "[encoded data removed]",
      "text/plain": [
       "<Figure size 432x288 with 1 Axes>"
      ]
     },
     "metadata": {},
     "output_type": "display_data"
    }
   ],
   "source": [
    "num_hours_studied = np.array([1, 3, 3, 4, 5, 6, 7, 7, 8, 8, 10])\n",
    "exam_score = np.array([18, 26, 31, 40, 55, 62, 71, 70, 75, 85, 97])\n",
    "plt.scatter(num_hours_studied, exam_score)\n",
    "plt.xlabel('num_hours_studied')\n",
    "plt.ylabel('exam_score')\n",
    "plt.show()"
   ]
  },
  {
   "cell_type": "markdown",
   "metadata": {},
   "source": [
    "We can see the this is nearly a straight line. We suspect with such a high linear correlation that linear regression will be a successful technique for this task.\n",
    "\n",
    "We will now build a linear model to fit this data."
   ]
  },
  {
   "cell_type": "markdown",
   "metadata": {},
   "source": [
    "### Linear Model\n",
    "\n",
    "#### Hypothesis\n",
    "\n",
    "A linear model makes a \"hypothesis\" about the true nature of the underlying function - that it is linear. We express this hypothesis in the univariate case as\n",
    "\n",
    "$$h_\\theta(x) = ax + b$$\n",
    "\n",
    "Our simple example above was an example of \"univariate regression\" - i.e. just one variable (or \"feature\") - number of hours studied. Below we will have more than one feature (\"multivariate regression\") which is given by\n",
    "\n",
    "$$h_\\theta(\\mathbf{x}) = \\mathbf{a}^\\top \\mathbf{X}$$\n",
    "\n",
    "Here $\\mathbf{a}$ is a vector of learned parameters, and $\\mathbf{X}$ is the \"design matrix\" with all the data points. In this formulation the intercept term has been added to the design matrix as the first column (of all ones)."
   ]
  },
  {
   "cell_type": "markdown",
   "metadata": {},
   "source": [
    "#### Design Matrix\n",
    "\n",
    "In general with $n$ data points and $p$ features our design matrix will have $n$ rows and $p$ columns.\n",
    "\n",
    "Returning to our exam score regression example, let's add one more feature - number of hours slept the night before the exam. If we have 4 data points and 2 features, then our matrix will be of shape $4 \\times 3$ (remember we add a bias column). It might look like\n",
    "\n",
    "$$\n",
    "\\begin{bmatrix}\n",
    "    1 & 1 & 8 \\\\\n",
    "    1 & 5 & 6 \\\\\n",
    "    1 & 7 & 6 \\\\\n",
    "    1 & 8 & 4 \\\\\n",
    "\\end{bmatrix}\n",
    "$$\n",
    "\n",
    "Notice we do **not** include the response in the design matrix."
   ]
  },
  {
   "cell_type": "markdown",
   "metadata": {},
   "source": [
    "#### Univariate Example\n",
    "\n",
    "Let's now see what our univariate example looks like"
   ]
  },
  {
   "cell_type": "code",
   "execution_count": 3,
   "metadata": {},
   "outputs": [
    {
     "name": "stdout",
     "output_type": "stream",
     "text": [
      "[9.40225564]\n",
      "4.278195488721785\n"
     ]
    }
   ],
   "source": [
    "# Fit the model\n",
    "exam_model = linear_model.LinearRegression(normalize=True)\n",
    "x = np.expand_dims(num_hours_studied, 1)\n",
    "print(x)\n",
    "y = exam_score\n",
    "exam_model.fit(x, y)\n",
    "a = exam_model.coef_\n",
    "b = exam_model.intercept_\n",
    "print(exam_model.coef_)\n",
    "print(exam_model.intercept_)"
   ]
  },
  {
   "cell_type": "code",
   "execution_count": 4,
   "metadata": {},
   "outputs": [
    {
     "data": {
      "image/png": "[encoded data removed]",
      "text/plain": [
       "<Figure size 432x288 with 1 Axes>"
      ]
     },
     "metadata": {},
     "output_type": "display_data"
    }
   ],
   "source": [
    "# Visualize the results\n",
    "plt.scatter(num_hours_studied, exam_score)\n",
    "x = np.linspace(0, 10)\n",
    "y = a*x + b\n",
    "plt.plot(x, y, 'r')\n",
    "plt.xlabel('num_hours_studied')\n",
    "plt.ylabel('exam_score')\n",
    "plt.show()"
   ]
  },
  {
   "cell_type": "markdown",
   "metadata": {},
   "source": [
    "The line fits pretty well using the eye, as it should, because the true function is linear and the data has just a little noise.\n",
    "\n",
    "But we need a mathematical way to define a good fit in order to find the optimal parameters for our hypothesis."
   ]
  },
  {
   "cell_type": "markdown",
   "metadata": {},
   "source": [
    "### What is a Good Fit?\n",
    "\n",
    "Typically we use \"mean squared error\" to measure the goodness of fit in a regression problem.\n",
    "\n",
    "$$\\text{MSE} = \\frac{1}{n} \\sum_{i=1}^n (y^{(i)} - h_\\theta^{(i)})^2$$\n",
    "\n",
    "You can see that this is measuring how far away each of the real data points are from our predicted point which makes good sense. Here is a visualization\n",
    "\n",
    "![MSE](http://www.statisticshowto.com/wp-content/uploads/2015/03/residual.png)\n",
    "\n",
    "(Image taken from http://www.statisticshowto.com/rmse/)\n",
    "\n",
    "This function is then taken to be our \"loss\" function - a measure of how badly we are doing. In general we want to minimize this."
   ]
  },
  {
   "cell_type": "markdown",
   "metadata": {},
   "source": [
    "### How to learn the parameters?"
   ]
  },
  {
   "cell_type": "markdown",
   "metadata": {},
   "source": [
    "#### Optimization Problem\n",
    "\n",
    "The typical recipe for machine learning algorithms is to define a loss function of the parameters of a hypothesis, then to minimize the loss function. In our case we have the optimization problem\n",
    "\n",
    "$$\\min_{\\mathbf{a}} \\frac{1}{n} \\sum_{i=1}^n (y^{(i)} - \\mathbf{a}^\\top\\mathbf{X}^{(i)})^2$$\n",
    "\n",
    "Note that we have added the bias into the design matrix.\n",
    "\n",
    "This happens to be a convex function. So the \"loss surface\" (i.e. the map of the loss values over all the parameter values) has a nice convex shape like so:\n",
    "\n",
    "![convex function](http://theinf2.informatik.uni-jena.de/theinf2_multimedia/bilder/lectures/convex-width-244-height-261.jpg)\n",
    "\n",
    "(Image taken from http://theinf2.informatik.uni-jena.de/Lectures/Convex+Optimization.html)\n",
    "\n",
    "This has the nice property that regardless of where you are on the loss surface you always know how to move to reach the global minimum."
   ]
  },
  {
   "cell_type": "markdown",
   "metadata": {},
   "source": [
    "#### Normal Equations\n",
    "\n",
    "Linear regression actually has a closed-form solution - the normal equation. It is beyond our scope to show the derivation, but here it is:\n",
    "\n",
    "$$\\mathbf{a}^* = (\\mathbf{X}^\\top\\mathbf{X})^{-1}\\mathbf{X}^\\top \\mathbf{y}$$\n",
    "\n",
    "We won't be implementing this equation, but you should know this is what `sklearn.linear_model.LinearRegression` is doing under the hood. We will talk more about optimization in later tutorials, where we have no closed-form solution.\n",
    "\n",
    "Sometimes you might encounter an error that complains you have a singular design matrix. This usually occurs when you have redundant features. For example you might have two features for `distance`: one in metres, another in kilometres. These columns will therefore be linearly dependent - and the matrix therefore singular. In these cases you can simply remove the redundant feature column."
   ]
  },
  {
   "cell_type": "markdown",
   "metadata": {},
   "source": [
    "### Normalization\n",
    "\n",
    "It is a good idea to normalize all the values in the design matrix. This means all values should be in the range $(0, 1)$ and centered around zero.\n",
    "\n",
    "![normalization](http://cs231n.github.io/assets/nn2/prepro1.jpeg)\n",
    "\n",
    "(Image taken from http://cs231n.github.io/neural-networks-2/)\n",
    "\n",
    "Normalization helps the learning algorithm perform better. A deeper discussion of this is beyond our current scope. Just think of it as a practical trick for now.\n",
    "\n",
    "Fortunately, `sklearn.linear_model.LinearRegression` has an initialization parameter `normalize` that will take care of this for you. Beware that its default is `False` so you will need to set this yourself manually if you want it. Refer to http://scikit-learn.org/stable/modules/generated/sklearn.linear_model.LinearRegression.html."
   ]
  },
  {
   "cell_type": "markdown",
   "metadata": {},
   "source": [
    "## Practice #1\n",
    "\n",
    "In this first practice our goals are:\n",
    "1. Load the data\n",
    "2. Visualize the relationships in the data\n",
    "3. Prepare the data for the learning algorithm\n",
    "4. Fit the data"
   ]
  },
  {
   "cell_type": "markdown",
   "metadata": {},
   "source": [
    "### Dataset\n",
    "\n",
    "The data for this example come from a study by Stamey et al. (1989). They examined the correlation between the level of prostate-specific antigen and a number of clinical measures in men who were about to receive a radical prostatectomy. The variables are \n",
    "- log cancer volume ( lcavol )\n",
    "- log prostate weight ( lweight )\n",
    "- age\n",
    "- log of the amount of benign prostatic hyperplasia ( lbph )\n",
    "- seminal vesicle invasion ( svi )\n",
    "- log of capsular penetration ( lcp )\n",
    "- Gleason score ( gleason )\n",
    "- percent of Gleason scores 4 or 5 ( pgg45 )\n",
    "\n",
    "(Taken from Elements of Statistical Learning, Hastie and Tibshirani).\n",
    "\n",
    "So we have eight features (our $\\mathbf{X}$) to predict our response $y$, the level of prostate-specific antigen (`lpsa`)."
   ]
  },
  {
   "cell_type": "markdown",
   "metadata": {},
   "source": [
    "### Load the Data"
   ]
  },
  {
   "cell_type": "markdown",
   "metadata": {},
   "source": [
    "The data comes in `.csv` format. We will use the `pandas` library (which we imported as `pd`) to load and manage the data. It is a very convenient library for handling data and conducting machine learning experiments.\n",
    "\n",
    "Your first task is to use the `pd.read_csv()` function to load the data. We have given you the file name to use as `file_name`. You can refer to the documentation here (https://pandas.pydata.org/pandas-docs/stable/generated/pandas.read_csv.html) for details on all the options. Pay particular attention to `sep` and `index_col` (you only need these two). This data is separated by the tab character `'\\t'` and the index column is the first one (remember python uses zero-based indexing). Take a look at the raw data (just load the file in a text editor) to see what you are doing and get a feel for this important step.\n",
    "\n",
    "Make sure you load the data into a variable named `data`. The following cell will help confirm you have completed this first step successfully.\n",
    "\n",
    "If you want to see what you have loaded type `data.head()` as the bottom line in the cell to debug."
   ]
  },
  {
   "cell_type": "code",
   "execution_count": 5,
   "metadata": {},
   "outputs": [],
   "source": [
    "\"\"\"\n",
    "Task: Load the data with pandas\n",
    "\"\"\"\n",
    "file_name = 'prostate.csv'\n",
    "data = pd.read_csv('prostate.csv', sep='\\t', index_col=0)"
   ]
  },
  {
   "cell_type": "code",
   "execution_count": 6,
   "metadata": {},
   "outputs": [
    {
     "name": "stdout",
     "output_type": "stream",
     "text": [
      "Success!\n"
     ]
    }
   ],
   "source": [
    "assert len(data.columns) == 10\n",
    "assert len(data) == 97\n",
    "for column_name in ['lcavol', 'lweight', 'age', 'lbph', 'svi', \n",
    "                    'lcp', 'gleason', 'pgg45', 'lpsa', 'train']:\n",
    "    assert column_name in data.columns\n",
    "print('Success!')"
   ]
  },
  {
   "cell_type": "markdown",
   "metadata": {},
   "source": [
    "Let's now take a look at the data."
   ]
  },
  {
   "cell_type": "code",
   "execution_count": 7,
   "metadata": {
    "scrolled": true
   },
   "outputs": [
    {
     "data": {
      "text/html": [
       "<div>\n",
       "<style scoped>\n",
       "    .dataframe tbody tr th:only-of-type {\n",
       "        vertical-align: middle;\n",
       "    }\n",
       "\n",
       "    .dataframe tbody tr th {\n",
       "        vertical-align: top;\n",
       "    }\n",
       "\n",
       "    .dataframe thead th {\n",
       "        text-align: right;\n",
       "    }\n",
       "</style>\n",
       "<table border=\"1\" class=\"dataframe\">\n",
       "  <thead>\n",
       "    <tr style=\"text-align: right;\">\n",
       "      <th></th>\n",
       "      <th>lcavol</th>\n",
       "      <th>lweight</th>\n",
       "      <th>age</th>\n",
       "      <th>lbph</th>\n",
       "      <th>svi</th>\n",
       "      <th>lcp</th>\n",
       "      <th>gleason</th>\n",
       "      <th>pgg45</th>\n",
       "      <th>lpsa</th>\n",
       "      <th>train</th>\n",
       "    </tr>\n",
       "  </thead>\n",
       "  <tbody>\n",
       "    <tr>\n",
       "      <th>1</th>\n",
       "      <td>-0.579818</td>\n",
       "      <td>2.769459</td>\n",
       "      <td>50</td>\n",
       "      <td>-1.386294</td>\n",
       "      <td>0</td>\n",
       "      <td>-1.386294</td>\n",
       "      <td>6</td>\n",
       "      <td>0</td>\n",
       "      <td>-0.430783</td>\n",
       "      <td>T</td>\n",
       "    </tr>\n",
       "    <tr>\n",
       "      <th>2</th>\n",
       "      <td>-0.994252</td>\n",
       "      <td>3.319626</td>\n",
       "      <td>58</td>\n",
       "      <td>-1.386294</td>\n",
       "      <td>0</td>\n",
       "      <td>-1.386294</td>\n",
       "      <td>6</td>\n",
       "      <td>0</td>\n",
       "      <td>-0.162519</td>\n",
       "      <td>T</td>\n",
       "    </tr>\n",
       "    <tr>\n",
       "      <th>3</th>\n",
       "      <td>-0.510826</td>\n",
       "      <td>2.691243</td>\n",
       "      <td>74</td>\n",
       "      <td>-1.386294</td>\n",
       "      <td>0</td>\n",
       "      <td>-1.386294</td>\n",
       "      <td>7</td>\n",
       "      <td>20</td>\n",
       "      <td>-0.162519</td>\n",
       "      <td>T</td>\n",
       "    </tr>\n",
       "    <tr>\n",
       "      <th>4</th>\n",
       "      <td>-1.203973</td>\n",
       "      <td>3.282789</td>\n",
       "      <td>58</td>\n",
       "      <td>-1.386294</td>\n",
       "      <td>0</td>\n",
       "      <td>-1.386294</td>\n",
       "      <td>6</td>\n",
       "      <td>0</td>\n",
       "      <td>-0.162519</td>\n",
       "      <td>T</td>\n",
       "    </tr>\n",
       "    <tr>\n",
       "      <th>5</th>\n",
       "      <td>0.751416</td>\n",
       "      <td>3.432373</td>\n",
       "      <td>62</td>\n",
       "      <td>-1.386294</td>\n",
       "      <td>0</td>\n",
       "      <td>-1.386294</td>\n",
       "      <td>6</td>\n",
       "      <td>0</td>\n",
       "      <td>0.371564</td>\n",
       "      <td>T</td>\n",
       "    </tr>\n",
       "  </tbody>\n",
       "</table>\n",
       "</div>"
      ],
      "text/plain": [
       "     lcavol   lweight  age      lbph  svi       lcp  gleason  pgg45      lpsa  \\\n",
       "1 -0.579818  2.769459   50 -1.386294    0 -1.386294        6      0 -0.430783   \n",
       "2 -0.994252  3.319626   58 -1.386294    0 -1.386294        6      0 -0.162519   \n",
       "3 -0.510826  2.691243   74 -1.386294    0 -1.386294        7     20 -0.162519   \n",
       "4 -1.203973  3.282789   58 -1.386294    0 -1.386294        6      0 -0.162519   \n",
       "5  0.751416  3.432373   62 -1.386294    0 -1.386294        6      0  0.371564   \n",
       "\n",
       "  train  \n",
       "1     T  \n",
       "2     T  \n",
       "3     T  \n",
       "4     T  \n",
       "5     T  "
      ]
     },
     "execution_count": 7,
     "metadata": {},
     "output_type": "execute_result"
    }
   ],
   "source": [
    "data.head()"
   ]
  },
  {
   "cell_type": "markdown",
   "metadata": {},
   "source": [
    "We can see we have our eight feature columns and the response `lpsa` as well. We also have another column called `train` which is a boolean column. This tells us which data points to include in our training set, and which to hold our for testing.\n",
    "\n",
    "We will discuss training versus testing further below."
   ]
  },
  {
   "cell_type": "markdown",
   "metadata": {},
   "source": [
    "### Visualize the Data\n",
    "\n",
    "In order to assess the suitability of linear regression for each of the features, we should always try and plot the relationships in the data.\n",
    "\n",
    "Scatter plots are useful. We can make one for each feature. We will use `matplotlib` to do this. The first one we will do for you, then you should visualize the rest, exploring the relationships in the data."
   ]
  },
  {
   "cell_type": "code",
   "execution_count": 8,
   "metadata": {},
   "outputs": [
    {
     "data": {
      "image/png": "[encoded data removed]",
      "text/plain": [
       "<Figure size 432x288 with 1 Axes>"
      ]
     },
     "metadata": {},
     "output_type": "display_data"
    }
   ],
   "source": [
    "# function to help us plot\n",
    "def scatter(_data, x_name):\n",
    "    plt.scatter(_data[x_name], _data['lpsa'])\n",
    "    plt.xlabel(x_name)\n",
    "    plt.ylabel('lpsa')\n",
    "    plt.show()\n",
    "\n",
    "scatter(data, 'pgg45')"
   ]
  },
  {
   "cell_type": "markdown",
   "metadata": {},
   "source": [
    "There is a pretty clear linear relationship there. It is far from as clean as our toy example at the start of this tutorial. But this is more realistic data, so there will not be such easy relationships and such clean data."
   ]
  },
  {
   "cell_type": "markdown",
   "metadata": {},
   "source": [
    "Use the cell below (or add more) to play with our `scatter` function and investigate the relationships between the response and the other features."
   ]
  },
  {
   "cell_type": "code",
   "execution_count": 9,
   "metadata": {},
   "outputs": [
    {
     "data": {
      "text/plain": [
       "'\\nTask: Explore the relationships between the response and the other features\\n'"
      ]
     },
     "execution_count": 9,
     "metadata": {},
     "output_type": "execute_result"
    }
   ],
   "source": [
    "\"\"\"\n",
    "Task: Explore the relationships between the response and the other features\n",
    "\"\"\"\n"
   ]
  },
  {
   "cell_type": "markdown",
   "metadata": {},
   "source": [
    "### Prepare the Data\n",
    "\n",
    "We noticed when we loaded the data that we had an extra column indicating whether the data point should be used to train the model parameters, or whether it should be held out for testing.\n",
    "\n",
    "We now need to separate our data into train and test sets. This is your next task.\n",
    "\n",
    "You will need to use the pandas selection syntax which for an \"equals\" relation is:\n",
    "\n",
    "```\n",
    "new_data = data[data['column_name'] == desired_value]\n",
    "```\n",
    "\n",
    "You must create two new variables, `train` and `test` including the correct data points. \n",
    "\n",
    "We also don't want to keep those columns and mess up our design matrix, so we will use `data.drop()` to do that. Refer here (https://pandas.pydata.org/pandas-docs/stable/generated/pandas.DataFrame.drop.html) for reference on this function. Note that we need to pass a list of column names to drop, and specify the axis (where `1` is the column axis) like\n",
    "\n",
    "```\n",
    "new_data = data.drop(['unwanted_column'], axis=1)\n",
    "```\n",
    "\n",
    "The following cell will validate your work."
   ]
  },
  {
   "cell_type": "code",
   "execution_count": 10,
   "metadata": {},
   "outputs": [],
   "source": [
    "\"\"\"\n",
    "Task: Split the data into train and test\n",
    "\"\"\"\n",
    "train = data[data['train'] == 'T'].drop(['train'], axis=1)\n",
    "test = data[data['train'] == 'F'].drop(['train'], axis=1)"
   ]
  },
  {
   "cell_type": "code",
   "execution_count": 11,
   "metadata": {},
   "outputs": [
    {
     "name": "stdout",
     "output_type": "stream",
     "text": [
      "Success!\n"
     ]
    }
   ],
   "source": [
    "assert len(train) == 67\n",
    "assert len(test) == 30\n",
    "assert 'train' not in train.columns\n",
    "assert 'train' not in test.columns\n",
    "assert len(train.columns) == 9\n",
    "assert len(test.columns) == 9\n",
    "print('Success!')"
   ]
  },
  {
   "cell_type": "markdown",
   "metadata": {},
   "source": [
    "Next we need to prepare the design matrix for the learning algorithm, and the response vector. \n",
    "\n",
    "The response vector can be recovered with simple selection (like we saw above in visualization - i.e. `data[column_name]`). \n",
    "\n",
    "A nice syntax for selecting all columns except one from a `DataFrame` is\n",
    "\n",
    "```\n",
    "data.loc[:, data.columns != column_name]\n",
    "```\n",
    "\n",
    "In pandas `loc` allows boolean indexing of rows and columns. So the above code can be read as \"select all rows and all columns except `column_name`. The `:` symbol means all. The first position inside the square brackets is the rows (axis 0) - so all rows. In the second position, columns (axis 1), we have something more going on. Let's investigate that first"
   ]
  },
  {
   "cell_type": "code",
   "execution_count": 12,
   "metadata": {},
   "outputs": [
    {
     "data": {
      "text/plain": [
       "array([ True,  True,  True,  True,  True,  True,  True,  True, False])"
      ]
     },
     "execution_count": 12,
     "metadata": {},
     "output_type": "execute_result"
    }
   ],
   "source": [
    "train.columns != 'lpsa'"
   ]
  },
  {
   "cell_type": "markdown",
   "metadata": {},
   "source": [
    "We can see we have a boolean vector. This tells us which columns to select. They are ordered, so we can see that `'lpsa'` is the last column, where the `False` appears. We can confirm this by looking at the `data.head()` output above.\n",
    "\n",
    "Now you have the tools you need to complete the next task. The variables you need to create are\n",
    "- `x_train`\n",
    "- `y_train`\n",
    "- `x_test`\n",
    "- `y_test`"
   ]
  },
  {
   "cell_type": "code",
   "execution_count": 13,
   "metadata": {},
   "outputs": [],
   "source": [
    "x_train = train.loc[:, train.columns != 'lpsa']\n",
    "y_train = train['lpsa']\n",
    "x_test = test.loc[:, test.columns != 'lpsa']\n",
    "y_test = test['lpsa']"
   ]
  },
  {
   "cell_type": "code",
   "execution_count": 14,
   "metadata": {},
   "outputs": [
    {
     "name": "stdout",
     "output_type": "stream",
     "text": [
      "Success!\n"
     ]
    }
   ],
   "source": [
    "assert len(x_train.columns) == 8\n",
    "assert len(x_test.columns) == 8\n",
    "assert len(y_train) == 67\n",
    "assert len(y_test) == 30\n",
    "print('Success!')"
   ]
  },
  {
   "cell_type": "markdown",
   "metadata": {},
   "source": [
    "### Fit the Data"
   ]
  },
  {
   "cell_type": "markdown",
   "metadata": {},
   "source": [
    "#### Learn the Parameters\n",
    "\n",
    "Fitting the model really is the easy part, as far as coding is concerned. Data preparation is usually the most time consuming.\n",
    "\n",
    "There is an example of how to fit the model at the top of the tutorial already. This is your next task.\n",
    "\n",
    "You need to create a new instance of `sklearn.linear_model.LinearRegression` and use the `fit()` function to fit it to `x_train` using `y_train`. The documentation is here: http://scikit-learn.org/stable/modules/generated/sklearn.linear_model.LinearRegression.html.\n",
    "\n",
    "(Note that when you choose `normalize=True` the argument `fit_intercept` is ignored, since we have centered the data around zero)"
   ]
  },
  {
   "cell_type": "code",
   "execution_count": 15,
   "metadata": {},
   "outputs": [
    {
     "data": {
      "text/plain": [
       "LinearRegression(copy_X=True, fit_intercept=True, n_jobs=1, normalize=True)"
      ]
     },
     "execution_count": 15,
     "metadata": {},
     "output_type": "execute_result"
    }
   ],
   "source": [
    "model = linear_model.LinearRegression(normalize=True)\n",
    "model.fit(x_train, y_train)"
   ]
  },
  {
   "cell_type": "markdown",
   "metadata": {},
   "source": [
    "#### Assess the Goodness of Fit\n",
    "\n",
    "Let's now assess the performance of this fit using mean squared error. `sklearn` makes this easy to calculate, providing the `sklearn.metric.mean_squared_error` function - reference here http://scikit-learn.org/stable/modules/generated/sklearn.metrics.mean_squared_error.html."
   ]
  },
  {
   "cell_type": "code",
   "execution_count": 16,
   "metadata": {},
   "outputs": [
    {
     "name": "stdout",
     "output_type": "stream",
     "text": [
      "0.43919976805833433\n"
     ]
    }
   ],
   "source": [
    "train_pred = model.predict(x_train)\n",
    "mse_train = metrics.mean_squared_error(y_train, train_pred)\n",
    "print(mse_train)"
   ]
  },
  {
   "cell_type": "markdown",
   "metadata": {},
   "source": [
    "You might be wondering, how good of a fit is this in absolute terms? How should I interpret this value?\n",
    "\n",
    "If we take the square root of the MSE we get a value that relates directly to our response, $y$. So we can make a judgment in terms of its accuracy with respect to our quantity of interest."
   ]
  },
  {
   "cell_type": "code",
   "execution_count": 17,
   "metadata": {},
   "outputs": [
    {
     "data": {
      "text/plain": [
       "0.662721486039448"
      ]
     },
     "execution_count": 17,
     "metadata": {},
     "output_type": "execute_result"
    }
   ],
   "source": [
    "np.sqrt(mse_train)"
   ]
  },
  {
   "cell_type": "markdown",
   "metadata": {},
   "source": [
    "We can use `pandas` to get a quick and convenient range for our response."
   ]
  },
  {
   "cell_type": "code",
   "execution_count": 18,
   "metadata": {},
   "outputs": [
    {
     "name": "stdout",
     "output_type": "stream",
     "text": [
      "lpsa min: -0.4307829000000001\n",
      "lpsa max: 5.5829322\n"
     ]
    }
   ],
   "source": [
    "print('lpsa min: %s' % data['lpsa'].min())\n",
    "print('lpsa max: %s' % data['lpsa'].max())"
   ]
  },
  {
   "cell_type": "markdown",
   "metadata": {},
   "source": [
    "So we can say that the range of our response is $(-0.43, 5.58)$ and our mean error is $0.66$."
   ]
  },
  {
   "cell_type": "markdown",
   "metadata": {},
   "source": [
    "However, that is just on the training data. In fact, we don't really care about how well we can fit the training data. We mostly care about how well our model can predict unseen cases. This is traditionally what we use our held out test set for. Let's see how we did."
   ]
  },
  {
   "cell_type": "code",
   "execution_count": 19,
   "metadata": {},
   "outputs": [
    {
     "name": "stdout",
     "output_type": "stream",
     "text": [
      "test MSE: 0.5212740055076001\n",
      "test RMSE: 0.7219930785731953\n"
     ]
    }
   ],
   "source": [
    "# get predictions on test set\n",
    "test_pred = model.predict(x_test)\n",
    "test_mse = metrics.mean_squared_error(y_test, test_pred)\n",
    "print('test MSE: %s' % test_mse)\n",
    "print('test RMSE: %s' % np.sqrt(test_mse))"
   ]
  },
  {
   "cell_type": "markdown",
   "metadata": {},
   "source": [
    "As often happens in machine learning, our test error is worse than our training error. Our next job is to improve this."
   ]
  },
  {
   "cell_type": "markdown",
   "metadata": {},
   "source": [
    "## The Bias-Variance Trade-Off"
   ]
  },
  {
   "cell_type": "markdown",
   "metadata": {},
   "source": [
    "In statistical learning we have two important measures to trade-off: bias and variance.\n",
    "\n",
    "Suppose the real function we are trying to model (not directly available to us) is $f$. Our hypothesis gives us an estimate of this function, $\\hat{f} = h_\\theta$. How far $f$ is from $\\hat{f}$ is called **bias**.\n",
    "\n",
    "But since we don't have access to $f$ we use some data to make our estimate. But not all datasets will give us a clean view of $f$. There will be noise and incompleteness. This will introduce **variance** into our estimate: the amount to which we miss $f$ due to fitting noise in our dataset.\n",
    "\n",
    "The following picture shows various bias-variance regimes, assuming our function is aiming for a bulls-eye:\n",
    "- top-left: high bias, low variance\n",
    "- top-right: high bias, high variance\n",
    "- bottom-left: low bias, low variance\n",
    "- bottom-right: low bias, high variance\n",
    "\n",
    "![bias_and_variance](https://qph.ec.quoracdn.net/main-qimg-8871671ae520db34622d740497ca8d19.webp)\n",
    "\n",
    "This is why in practice we often don't try to minimize the loss on the training set completely. We try to strike a balance. This is usually controlled in terms of \"model complexity\" which we will discuss shortly.\n",
    "\n",
    "The following diagram shows the pattern of interest. As model complexity increases, error on the training set reduces and continues to do so. However after some point error on unseen test data start to increase, giving the characteristic U-shape of the total error. The best model lies at the bottom of that U, where bias and variance are best traded-off.\n",
    "\n",
    "![bias-variance_trade-off](https://www.researchgate.net/profile/Ljubomir_Jacic2/post/How_does_model_complexity_impact_the_bias-variance_tradeoff/attachment/59d6233579197b807798188f/AS%3A306150770184192%401450003439733/download/biasvariance.png)\n",
    "\n",
    "When training loss is low relative to testing loss we are **overfitting** to the training data. When training loss is high relative to testing loss we are **underfitting**. Balancing both cases amounts to finding the best trade-off between bias and variance."
   ]
  },
  {
   "cell_type": "markdown",
   "metadata": {},
   "source": [
    "## Controlling Model Complexity for Linear Regression\n",
    "\n",
    "One direct measure of model complexity is simple: how many features you are using. In our model above we used **all** the features. But maybe some of them aren't *really* associated with the response. Maybe their small correlations represent noise and not the real function $f$.\n",
    "\n",
    "Another way to control model complexity is to limit the size of the coefficients. We can do this by adding a **penalty term** to our loss function that increases loss for larger parameter values. Our optimization objective then becomes\n",
    "\n",
    "$$\\min_{\\mathbf{a}} (y - h_\\theta(x))^2 + \\alpha \\lVert \\mathbf{a} \\rVert^2$$\n",
    "\n",
    "So the larger the norm of our parameter vector grows, the greater the loss, controlled by an extra hyperparameter $\\alpha$. This is technically called **ridge regression**.\n",
    "\n",
    "To get an intuitive feel for how smaller parameters equates to reducing model complexity, consider what happens to a hypothesis with three features when you reduce one of the coefficients say $w_3$) to nearly zero\n",
    "\n",
    "$$h_\\theta = w_1x_1 + w_2x_2 + w_3x_3 \\approx w_1x_1 + w_2x_2$$\n",
    "\n",
    "We are essentially performing feature selection here. Looking at it another way, telling the model that it only has a limited parameter budget, we force it to spend that budget on the most predictive combination of features."
   ]
  },
  {
   "cell_type": "markdown",
   "metadata": {},
   "source": [
    "## Practice #2\n",
    "\n",
    "The goal of this practice is to let you use your own intuition to reduce the test set MSE by implementing regularized linear regression. The goals are as follows\n",
    "\n",
    "1. Implement regularization via feature selection\n",
    "2. Implement regularization by penalizing large parameter values (ridge regression)"
   ]
  },
  {
   "cell_type": "markdown",
   "metadata": {},
   "source": [
    "### Feature Selection\n",
    "\n",
    "You may wish to return to the place above where you were using your eye to examine the correlations between each feature and the response. Your goal is to select the optimal subset of features to reduce the **test set error**.\n",
    "\n",
    "You can get a boolean vector of column selectors with the following syntax\n",
    "\n",
    "```\n",
    "[column in ['wanted_column_1', ..., 'wanted_column_n'] for column in data.columns]\n",
    "```\n",
    "\n",
    "For example, if I only wanted lcavol and lweight I would use"
   ]
  },
  {
   "cell_type": "code",
   "execution_count": 20,
   "metadata": {},
   "outputs": [
    {
     "data": {
      "text/plain": [
       "Index(['lcavol', 'lweight', 'age', 'lbph', 'svi', 'lcp', 'gleason', 'pgg45'], dtype='object')"
      ]
     },
     "execution_count": 20,
     "metadata": {},
     "output_type": "execute_result"
    }
   ],
   "source": [
    "# this cell tells you what all the feature names are for convenience\n",
    "x_train.columns"
   ]
  },
  {
   "cell_type": "code",
   "execution_count": 21,
   "metadata": {},
   "outputs": [
    {
     "data": {
      "image/png": "[encoded data removed]",
      "text/plain": [
       "<Figure size 432x288 with 1 Axes>"
      ]
     },
     "metadata": {},
     "output_type": "display_data"
    }
   ],
   "source": [
    "# you can use this cell to visualize here for convenience\n",
    "scatter(data, 'lcavol')"
   ]
  },
  {
   "cell_type": "code",
   "execution_count": 22,
   "metadata": {},
   "outputs": [
    {
     "data": {
      "text/html": [
       "<div>\n",
       "<style scoped>\n",
       "    .dataframe tbody tr th:only-of-type {\n",
       "        vertical-align: middle;\n",
       "    }\n",
       "\n",
       "    .dataframe tbody tr th {\n",
       "        vertical-align: top;\n",
       "    }\n",
       "\n",
       "    .dataframe thead th {\n",
       "        text-align: right;\n",
       "    }\n",
       "</style>\n",
       "<table border=\"1\" class=\"dataframe\">\n",
       "  <thead>\n",
       "    <tr style=\"text-align: right;\">\n",
       "      <th></th>\n",
       "      <th>lcavol</th>\n",
       "      <th>lweight</th>\n",
       "    </tr>\n",
       "  </thead>\n",
       "  <tbody>\n",
       "    <tr>\n",
       "      <th>1</th>\n",
       "      <td>-0.579818</td>\n",
       "      <td>2.769459</td>\n",
       "    </tr>\n",
       "    <tr>\n",
       "      <th>2</th>\n",
       "      <td>-0.994252</td>\n",
       "      <td>3.319626</td>\n",
       "    </tr>\n",
       "    <tr>\n",
       "      <th>3</th>\n",
       "      <td>-0.510826</td>\n",
       "      <td>2.691243</td>\n",
       "    </tr>\n",
       "    <tr>\n",
       "      <th>4</th>\n",
       "      <td>-1.203973</td>\n",
       "      <td>3.282789</td>\n",
       "    </tr>\n",
       "    <tr>\n",
       "      <th>5</th>\n",
       "      <td>0.751416</td>\n",
       "      <td>3.432373</td>\n",
       "    </tr>\n",
       "  </tbody>\n",
       "</table>\n",
       "</div>"
      ],
      "text/plain": [
       "     lcavol   lweight\n",
       "1 -0.579818  2.769459\n",
       "2 -0.994252  3.319626\n",
       "3 -0.510826  2.691243\n",
       "4 -1.203973  3.282789\n",
       "5  0.751416  3.432373"
      ]
     },
     "execution_count": 22,
     "metadata": {},
     "output_type": "execute_result"
    }
   ],
   "source": [
    "wanted_features = ['lcavol', 'lweight']\n",
    "select_features = [column in wanted_features for column in data.columns]\n",
    "x_train_fs = x_train.loc[:, select_features]\n",
    "x_train_fs.head()"
   ]
  },
  {
   "cell_type": "markdown",
   "metadata": {},
   "source": [
    "I'm using the shorthand `fs` to indicate this variable is my feature selection data.\n",
    "\n",
    "Let's see how this randomly chose subset performs"
   ]
  },
  {
   "cell_type": "code",
   "execution_count": 23,
   "metadata": {},
   "outputs": [
    {
     "data": {
      "text/plain": [
       "0.5536096363068858"
      ]
     },
     "execution_count": 23,
     "metadata": {},
     "output_type": "execute_result"
    }
   ],
   "source": [
    "model_fs = linear_model.LinearRegression(normalize=True)\n",
    "model_fs.fit(x_train_fs, y_train)\n",
    "train_preds_fs = model_fs.predict(x_train_fs)\n",
    "metrics.mean_squared_error(y_train, train_preds_fs)"
   ]
  },
  {
   "cell_type": "markdown",
   "metadata": {},
   "source": [
    "That's a fair but worse than 0.4392 that we achieved with all the features.\n",
    "\n",
    "But, let's check out the test set performance"
   ]
  },
  {
   "cell_type": "code",
   "execution_count": 24,
   "metadata": {},
   "outputs": [
    {
     "data": {
      "text/plain": [
       "0.4924823476805036"
      ]
     },
     "execution_count": 24,
     "metadata": {},
     "output_type": "execute_result"
    }
   ],
   "source": [
    "x_test_fs = x_test.loc[:, select_features]\n",
    "test_preds_fs = model_fs.predict(x_test_fs)\n",
    "metrics.mean_squared_error(y_test, test_preds_fs)"
   ]
  },
  {
   "cell_type": "markdown",
   "metadata": {},
   "source": [
    "That is indeed lower than our previous test MSE of 0.5212. We have traded off some bias for more variance and improved our performance.\n",
    "\n",
    "That was just arbitrarily selecting the first two features from the list. I'm sure you can do better!"
   ]
  },
  {
   "cell_type": "markdown",
   "metadata": {},
   "source": [
    "We haven't had time to cover everything important related to feature selection in this tutorial. For a further reference take a look at the SciKitLearn tutorial on feature selection here http://scikit-learn.org/stable/modules/feature_selection.html.\n",
    "\n",
    "For example, there are some greedy algorithms for automatic feature selection. If you have the computational resources then I guess you could also try every single combination."
   ]
  },
  {
   "cell_type": "markdown",
   "metadata": {},
   "source": [
    "### Ridge Regression\n",
    "\n",
    "This time we will implement feature selection via ridge regression. To do this we can use the class `sklearn.linear_model.Ridge`. The reference is here at 1.1.2: http://scikit-learn.org/stable/modules/linear_model.html. We will throw all features in, let ridge regression do selection, and see how our own feature sets compare.\n",
    "\n",
    "Notice we have an additional hyperparameter, $\\alpha$. This controls how heavy the penalty is for larger weights. How do we select the best value for this hyperparameter?\n",
    "\n",
    "#### Cross Validation\n",
    "\n",
    "To perform hyperparameter tuning we can use a technique called **cross validation**. We take our test set, randomly divide into $k$ training and testing sets. Differnent samples will be randomly placed in each set, each with their own variance. We then average the results over the folds to estimate how well we will do on unseen test data. After splitting the data into $k$ folds (10 is a usual choice for $k$), we will try out different hyperparameter values and select the best one.\n",
    "\n",
    "![cross_validation](https://www.researchgate.net/profile/Kiret_Dhindsa/publication/323969239/figure/fig10/AS:607404244873216@1521827865007/The-K-fold-cross-validation-scheme-133-Each-of-the-K-partitions-is-used-as-a-test.ppm)\n",
    "\n",
    "Note that we **do not use the test set to choose hyperparameter values**. This would not give us a fair estimate of how well we do un unseen data. We use the training set to create the 10-folds.\n",
    "\n",
    "We want to try out different values of $\\alpha$, get cross-validated MSE values, and then use those values to choose the best $\\alpha$ for our model. \n",
    "\n",
    "Much of this process is already wrapped in `sklearn.model_selection.cross_val_score` for us. We just need to define a scoring function which we will do for you here"
   ]
  },
  {
   "cell_type": "code",
   "execution_count": 25,
   "metadata": {},
   "outputs": [],
   "source": [
    "def scorer(model, X, y):\n",
    "    preds = model.predict(X)\n",
    "    return metrics.mean_squared_error(y, preds)"
   ]
  },
  {
   "cell_type": "markdown",
   "metadata": {},
   "source": [
    "We need to define a reasonable range of values for alpha to search over. We can use `np.linspace` to get a vector of evenly spaced numbers over an interval. Reference here https://docs.scipy.org/doc/numpy-1.14.0/reference/generated/numpy.linspace.html. Let's try $(0, 3)$. We'll also choose the arguments so we get nice clean decimals."
   ]
  },
  {
   "cell_type": "code",
   "execution_count": 26,
   "metadata": {},
   "outputs": [
    {
     "data": {
      "text/plain": [
       "array([0.  , 0.05, 0.1 , 0.15, 0.2 , 0.25, 0.3 , 0.35, 0.4 , 0.45, 0.5 ])"
      ]
     },
     "execution_count": 26,
     "metadata": {},
     "output_type": "execute_result"
    }
   ],
   "source": [
    "alphas = np.linspace(start=0, stop=0.5, num=11)\n",
    "alphas"
   ]
  },
  {
   "cell_type": "markdown",
   "metadata": {},
   "source": [
    "Now is your turn. We need to define a variable `mses`, loop over the values of alpha in `alphas`, get the vector of mses for each fold using `cross_val_score`, take the mean, and append each average mse to the list.\n",
    "\n",
    "Note that the mses returned by `cross_val_score` is a vector, a numpy array, so you will need to call `mean()` on it to get the average MSE for all folds."
   ]
  },
  {
   "cell_type": "code",
   "execution_count": 27,
   "metadata": {},
   "outputs": [],
   "source": [
    "\"\"\"\n",
    "Task: Perform 10-fold cross validation on all values of alpha and save the mses.\n",
    "\"\"\"\n",
    "mses = []\n",
    "for alpha in alphas:\n",
    "    ridge = linear_model.Ridge(alpha=alpha, normalize=True)\n",
    "    mse = model_selection.cross_val_score(ridge, x_train, y_train, cv=10, scoring=scorer)\n",
    "    mses.append(mse.mean())"
   ]
  },
  {
   "cell_type": "code",
   "execution_count": 28,
   "metadata": {},
   "outputs": [
    {
     "name": "stdout",
     "output_type": "stream",
     "text": [
      "Success!\n"
     ]
    }
   ],
   "source": [
    "assert len(mses) == 11             # must have the same number of scores as we have alpha values\n",
    "assert isinstance(mses[0], float)  # i.e. not an array, i.e. mean() has been called\n",
    "print('Success!')"
   ]
  },
  {
   "cell_type": "markdown",
   "metadata": {},
   "source": [
    "We will now plot alpha versus MSE and make a choice of our value for $\\alpha$."
   ]
  },
  {
   "cell_type": "code",
   "execution_count": 29,
   "metadata": {},
   "outputs": [
    {
     "data": {
      "image/png": "[encoded data removed]",
      "text/plain": [
       "<Figure size 432x288 with 1 Axes>"
      ]
     },
     "metadata": {},
     "output_type": "display_data"
    }
   ],
   "source": [
    "plt.plot(alphas, mses)\n",
    "plt.xlabel('alpha')\n",
    "plt.ylabel('mse')\n",
    "plt.show()"
   ]
  },
  {
   "cell_type": "code",
   "execution_count": 30,
   "metadata": {},
   "outputs": [
    {
     "data": {
      "text/plain": [
       "0.05"
      ]
     },
     "execution_count": 30,
     "metadata": {},
     "output_type": "execute_result"
    }
   ],
   "source": [
    "best_alpha = alphas[np.argmin(mses)]\n",
    "best_alpha"
   ]
  },
  {
   "cell_type": "markdown",
   "metadata": {},
   "source": [
    "That should show you a very clear u-shape and give you an optimal value for $\\alpha$."
   ]
  },
  {
   "cell_type": "markdown",
   "metadata": {},
   "source": [
    "Now, let's try it out on the full training set and get a final test set MSE."
   ]
  },
  {
   "cell_type": "code",
   "execution_count": 31,
   "metadata": {},
   "outputs": [
    {
     "name": "stdout",
     "output_type": "stream",
     "text": [
      "Train MSE: 0.44360201700630697\n",
      "Test MSE: 0.4994327373851968\n"
     ]
    }
   ],
   "source": [
    "ridge = linear_model.Ridge(alpha=best_alpha, normalize=True)\n",
    "ridge.fit(x_train, y_train)\n",
    "train_preds = ridge.predict(x_train)\n",
    "test_preds = ridge.predict(x_test)\n",
    "train_mse = metrics.mean_squared_error(y_train, train_preds)\n",
    "test_mse = metrics.mean_squared_error(y_test, test_preds)\n",
    "print('Train MSE: %s' % train_mse)\n",
    "print('Test MSE: %s' % test_mse)"
   ]
  },
  {
   "cell_type": "markdown",
   "metadata": {},
   "source": [
    "How did it do? Did it beat your feature selection approach?\n",
    "\n",
    "Let's see what features it selected. We can do this by examining the coefficients."
   ]
  },
  {
   "cell_type": "code",
   "execution_count": 32,
   "metadata": {},
   "outputs": [
    {
     "name": "stdout",
     "output_type": "stream",
     "text": [
      "Coefficient for lcavol:\t\t0.5150113097084422\n",
      "Coefficient for lweight:\t0.6060729864772452\n",
      "Coefficient for age:\t\t-0.01600664082233408\n",
      "Coefficient for lbph:\t\t0.1401782881342947\n",
      "Coefficient for svi:\t\t0.6956175514337609\n",
      "Coefficient for lcp:\t\t-0.13942150931487793\n",
      "Coefficient for gleason:\t0.006695464350646462\n",
      "Coefficient for pgg45:\t\t0.007640029385174187\n"
     ]
    }
   ],
   "source": [
    "for i in range(0, len(train.columns) - 1):\n",
    "    print('Coefficient for %s:%s\\t%s' %\n",
    "          (train.columns[i], \n",
    "           '\\t' if len(train.columns[i]) < 7 else '',\n",
    "           ridge.coef_[i]))"
   ]
  },
  {
   "cell_type": "markdown",
   "metadata": {},
   "source": [
    "Something we haven't explored here is whether using ridge regression with a subset of features could improve the result. Try that out for yourself for a final challenge. Can you get your test MSE lower? You can first try by dropping features to which ridge regression has assigned low weights..."
   ]
  },
  {
   "cell_type": "code",
   "execution_count": 33,
   "metadata": {},
   "outputs": [
    {
     "data": {
      "text/plain": [
       "'\\nTask: See if you can get a lower test MSE with ridge regression and a subset of features\\n'"
      ]
     },
     "execution_count": 33,
     "metadata": {},
     "output_type": "execute_result"
    }
   ],
   "source": [
    "\"\"\"\n",
    "Task: See if you can get a lower test MSE with ridge regression and a subset of features\n",
    "\"\"\""
   ]
  },
  {
   "cell_type": "code",
   "execution_count": 34,
   "metadata": {},
   "outputs": [],
   "source": [
    "# step 1: feature selection\n",
    "wanted_features = ['lcavol', 'lweight', 'age', 'lbph', 'svi', \n",
    "                   'lcp', 'gleason', 'pgg45']  # CHANGE THIS!!!\n",
    "select_features = [column in wanted_features for column in data.columns]\n",
    "x_train_fs = x_train.loc[:, select_features]"
   ]
  },
  {
   "cell_type": "code",
   "execution_count": 35,
   "metadata": {},
   "outputs": [
    {
     "data": {
      "text/plain": [
       "0.5212740055076001"
      ]
     },
     "execution_count": 35,
     "metadata": {},
     "output_type": "execute_result"
    }
   ],
   "source": [
    "# first fit that without ridge regression and check test set MSE\n",
    "no_rr_model = linear_model.LinearRegression(normalize=True)\n",
    "no_rr_model.fit(x_train_fs, y_train)\n",
    "x_test_fs = x_test.loc[:, select_features]\n",
    "no_rr_test_preds = no_rr_model.predict(x_test_fs)\n",
    "metrics.mean_squared_error(y_test, no_rr_test_preds)"
   ]
  },
  {
   "cell_type": "code",
   "execution_count": 36,
   "metadata": {},
   "outputs": [
    {
     "name": "stdout",
     "output_type": "stream",
     "text": [
      "0.05\n",
      "0.750144763218588\n"
     ]
    }
   ],
   "source": [
    "# now add ridge regression - first find the best alpha\n",
    "mses = []\n",
    "alphas = np.linspace(start=0, stop=0.5, num=11)  # YOU CAN ALSO CHANGE THIS!\n",
    "for alpha in alphas:\n",
    "    ridge = linear_model.Ridge(alpha=alpha, normalize=True)\n",
    "    mse = model_selection.cross_val_score(ridge, x_train_fs, y_train, cv=10, scoring=scorer)\n",
    "    mses.append(mse.mean())\n",
    "best_alpha = alphas[np.argmin(mses)]\n",
    "print(best_alpha)\n",
    "print(min(mses))"
   ]
  },
  {
   "cell_type": "code",
   "execution_count": 37,
   "metadata": {},
   "outputs": [
    {
     "data": {
      "text/plain": [
       "0.4994327373851968"
      ]
     },
     "execution_count": 37,
     "metadata": {},
     "output_type": "execute_result"
    }
   ],
   "source": [
    "# now train with ridge regression and evaluate on test set\n",
    "ridge = linear_model.Ridge(alpha=best_alpha, normalize=True)\n",
    "ridge.fit(x_train_fs, y_train)\n",
    "test_preds = ridge.predict(x_test_fs)\n",
    "metrics.mean_squared_error(y_test, test_preds)"
   ]
  },
  {
   "cell_type": "code",
   "execution_count": null,
   "metadata": {},
   "outputs": [],
   "source": []
  }
 ],
 "metadata": {
  "kernelspec": {
   "display_name": "Python 3",
   "language": "python",
   "name": "python3"
  },
  "language_info": {
   "codemirror_mode": {
    "name": "ipython",
    "version": 3
   },
   "file_extension": ".py",
   "mimetype": "text/x-python",
   "name": "python",
   "nbconvert_exporter": "python",
   "pygments_lexer": "ipython3",
   "version": "3.7.3"
  }
 },
 "nbformat": 4,
 "nbformat_minor": 2
}
